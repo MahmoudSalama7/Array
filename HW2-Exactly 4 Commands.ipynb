{
 "cells": [
  {
   "cell_type": "code",
   "execution_count": 10,
   "id": "2c476eac",
   "metadata": {},
   "outputs": [
    {
     "name": "stdout",
     "output_type": "stream",
     "text": [
      "Print (\"Me\")\n",
      "Print ('Me')\n",
      "Print ('Me\")\n",
      "You will learn\n",
      " a LOT\n"
     ]
    }
   ],
   "source": [
    "print (\"\"\"Print (\"Me\")\"\"\")\n",
    "print (\"\"\"Print ('Me')\"\"\")\n",
    "print (\"\"\"Print ('Me\")\"\"\")\n",
    "print (\"You will learn\\n a LOT\")"
   ]
  },
  {
   "cell_type": "code",
   "execution_count": null,
   "id": "e33f1bee",
   "metadata": {},
   "outputs": [],
   "source": []
  }
 ],
 "metadata": {
  "kernelspec": {
   "display_name": "Python 3 (ipykernel)",
   "language": "python",
   "name": "python3"
  },
  "language_info": {
   "codemirror_mode": {
    "name": "ipython",
    "version": 3
   },
   "file_extension": ".py",
   "mimetype": "text/x-python",
   "name": "python",
   "nbconvert_exporter": "python",
   "pygments_lexer": "ipython3",
   "version": "3.9.12"
  }
 },
 "nbformat": 4,
 "nbformat_minor": 5
}
