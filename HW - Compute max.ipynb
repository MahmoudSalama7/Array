{
 "cells": [
  {
   "cell_type": "code",
   "execution_count": 13,
   "id": "39dbd8e9",
   "metadata": {},
   "outputs": [
    {
     "name": "stdout",
     "output_type": "stream",
     "text": [
      "enter first numb: 40\n",
      "enter second numb: 10\n",
      "enter third numb: 30\n",
      "enter fourth numb: 70\n",
      "enter fifth numb: 100\n",
      "enter sixth numb: 2\n"
     ]
    },
    {
     "data": {
      "text/plain": [
       "100"
      ]
     },
     "execution_count": 13,
     "metadata": {},
     "output_type": "execute_result"
    }
   ],
   "source": [
    "a=int(input(\"enter first numb: \"))\n",
    "b=int(input(\"enter second numb: \"))\n",
    "c=int(input(\"enter third numb: \"))\n",
    "d=int(input(\"enter fourth numb: \"))\n",
    "e=int(input(\"enter fifth numb: \"))\n",
    "f=int(input(\"enter sixth numb: \"))\n",
    "\n",
    "\n",
    "def compute_max1(a,b):\n",
    "    max1=max(a,b)\n",
    "    return max1\n",
    "\n",
    "def compute_max2(a,b):\n",
    "    max2=max(a,b)\n",
    "    return max2\n",
    "\n",
    "def compute_max3(a,b):\n",
    "    max3=max(a,b)\n",
    "    return max3\n",
    "\n",
    "def compute_max(max1,max2,max3):\n",
    "    maxi=max(max(max1,max2),max3)\n",
    "    return maxi\n",
    "\n",
    "\n",
    "max1=compute_max1(a,b)\n",
    "max2=compute_max2(c,d)\n",
    "max3=compute_max3(e,f)\n",
    "\n",
    "compute_max(max1,max2,max3)"
   ]
  },
  {
   "cell_type": "code",
   "execution_count": null,
   "id": "904b9e47",
   "metadata": {},
   "outputs": [],
   "source": []
  }
 ],
 "metadata": {
  "kernelspec": {
   "display_name": "Python 3 (ipykernel)",
   "language": "python",
   "name": "python3"
  },
  "language_info": {
   "codemirror_mode": {
    "name": "ipython",
    "version": 3
   },
   "file_extension": ".py",
   "mimetype": "text/x-python",
   "name": "python",
   "nbconvert_exporter": "python",
   "pygments_lexer": "ipython3",
   "version": "3.9.12"
  }
 },
 "nbformat": 4,
 "nbformat_minor": 5
}
