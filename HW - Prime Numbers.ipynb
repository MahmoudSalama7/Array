{
 "cells": [
  {
   "cell_type": "code",
   "execution_count": 34,
   "id": "53fe1942",
   "metadata": {},
   "outputs": [
    {
     "name": "stdout",
     "output_type": "stream",
     "text": [
      "Enter a Number: 17\n",
      "True\n"
     ]
    }
   ],
   "source": [
    "def isPrime(n):\n",
    "    if n==2 or n==3: return True\n",
    "    if n%2==0 or n<2: return False\n",
    "    for i in range(3, int(n**0.5)+1, 2):\n",
    "        if n%i==0:\n",
    "            return False\n",
    "\n",
    "    return True\n",
    "    \n",
    "    \n",
    "n=int(input(\"Enter a Number: \"))\n",
    "y=isPrime(n)\n",
    "print(y)    "
   ]
  },
  {
   "cell_type": "code",
   "execution_count": 35,
   "id": "67a9b541",
   "metadata": {},
   "outputs": [
    {
     "name": "stdout",
     "output_type": "stream",
     "text": [
      "The above given nth Prime Number is =  59\n"
     ]
    }
   ],
   "source": [
    "#y=isPrime()\n",
    "num = n\n",
    "prim_numbrs = [2, 3]\n",
    "x = 3\n",
    "if(0 < num < 3):\n",
    "    print('The above given nth Prime Number is =', prim_numbrs[num-1])\n",
    "elif(num > 2):\n",
    "    while (True):\n",
    "        x += 1\n",
    "        y = True\n",
    "        for itr in range(2, int(x/2)+1):\n",
    "            if(x % itr == 0):\n",
    "                y = False\n",
    "                break\n",
    "        if(y == True):\n",
    "            prim_numbrs.append(x)\n",
    "        if(len(prim_numbrs) == num):\n",
    "            break\n",
    "    print('The above given nth Prime Number is = ', prim_numbrs[num-1])\n",
    "else:\n",
    "    print(\"Invalid number. Please enter another number \")"
   ]
  },
  {
   "cell_type": "code",
   "execution_count": null,
   "id": "d4f71444",
   "metadata": {},
   "outputs": [],
   "source": []
  }
 ],
 "metadata": {
  "kernelspec": {
   "display_name": "Python 3 (ipykernel)",
   "language": "python",
   "name": "python3"
  },
  "language_info": {
   "codemirror_mode": {
    "name": "ipython",
    "version": 3
   },
   "file_extension": ".py",
   "mimetype": "text/x-python",
   "name": "python",
   "nbconvert_exporter": "python",
   "pygments_lexer": "ipython3",
   "version": "3.9.12"
  }
 },
 "nbformat": 4,
 "nbformat_minor": 5
}
