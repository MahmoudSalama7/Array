{
 "cells": [
  {
   "cell_type": "code",
   "execution_count": 6,
   "id": "781a297d",
   "metadata": {},
   "outputs": [
    {
     "name": "stdout",
     "output_type": "stream",
     "text": [
      "Enter a size number: 3\n",
      "Enter a number: 50\n",
      "Enter a number: 10\n",
      "Enter a number: 150\n",
      "10.0 100.0\n"
     ]
    }
   ],
   "source": [
    "li=[]\n",
    "num=int(input(\"Enter a size number: \"))\n",
    "size=0\n",
    "evenSum=0\n",
    "oddSum=0\n",
    "evenCounter=0\n",
    "oddCounter=0\n",
    "while size!=num:\n",
    "    li.append(int(input(\"Enter a number: \")))\n",
    "    if (size%2==0):\n",
    "        oddSum+=li[size]\n",
    "        oddCounter+=1\n",
    "    else : \n",
    "        evenSum+=li[size]\n",
    "        evenCounter+=1\n",
    "     \n",
    "    size+=1\n",
    "print (evenSum/evenCounter,oddSum/oddCounter)    "
   ]
  },
  {
   "cell_type": "code",
   "execution_count": null,
   "id": "cd05c1cb",
   "metadata": {},
   "outputs": [],
   "source": []
  }
 ],
 "metadata": {
  "kernelspec": {
   "display_name": "Python 3 (ipykernel)",
   "language": "python",
   "name": "python3"
  },
  "language_info": {
   "codemirror_mode": {
    "name": "ipython",
    "version": 3
   },
   "file_extension": ".py",
   "mimetype": "text/x-python",
   "name": "python",
   "nbconvert_exporter": "python",
   "pygments_lexer": "ipython3",
   "version": "3.9.12"
  }
 },
 "nbformat": 4,
 "nbformat_minor": 5
}
