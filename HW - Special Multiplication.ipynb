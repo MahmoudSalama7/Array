{
 "cells": [
  {
   "cell_type": "code",
   "execution_count": 5,
   "id": "a0ac6923",
   "metadata": {},
   "outputs": [
    {
     "name": "stdout",
     "output_type": "stream",
     "text": [
      "Enter the string: mahmoud\n",
      "m\n",
      "aa\n",
      "hhh\n",
      "mmmm\n",
      "ooooo\n",
      "uuuuuu\n",
      "ddddddd\n"
     ]
    }
   ],
   "source": [
    "s=input(\"Enter the string: \")\n",
    "def special_multiplication(string):\n",
    "    for i in range(len(string)):\n",
    "        print(string[i]*(i+1))\n",
    "        i+=1\n",
    "\n",
    "special_multiplication(s)        \n",
    "    "
   ]
  },
  {
   "cell_type": "code",
   "execution_count": null,
   "id": "d4b81d1d",
   "metadata": {},
   "outputs": [],
   "source": []
  }
 ],
 "metadata": {
  "kernelspec": {
   "display_name": "Python 3 (ipykernel)",
   "language": "python",
   "name": "python3"
  },
  "language_info": {
   "codemirror_mode": {
    "name": "ipython",
    "version": 3
   },
   "file_extension": ".py",
   "mimetype": "text/x-python",
   "name": "python",
   "nbconvert_exporter": "python",
   "pygments_lexer": "ipython3",
   "version": "3.9.12"
  }
 },
 "nbformat": 4,
 "nbformat_minor": 5
}
