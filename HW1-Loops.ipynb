{
 "cells": [
  {
   "cell_type": "code",
   "execution_count": 7,
   "id": "11169dcb",
   "metadata": {},
   "outputs": [
    {
     "name": "stdout",
     "output_type": "stream",
     "text": [
      "Enter a number to start from: 4\n",
      "enter end number: 11\n",
      "4\n",
      "5\n",
      "6\n",
      "7\n",
      "8\n",
      "9\n",
      "10\n",
      "11\n"
     ]
    }
   ],
   "source": [
    "x=int(input(\"Enter a number to start from: \"))\n",
    "y=int(input(\"enter end number: \"))      \n",
    "      \n",
    "while x<=y:\n",
    "      print (x)\n",
    "      x+=1"
   ]
  },
  {
   "cell_type": "code",
   "execution_count": null,
   "id": "08babbf4",
   "metadata": {},
   "outputs": [],
   "source": []
  }
 ],
 "metadata": {
  "kernelspec": {
   "display_name": "Python 3 (ipykernel)",
   "language": "python",
   "name": "python3"
  },
  "language_info": {
   "codemirror_mode": {
    "name": "ipython",
    "version": 3
   },
   "file_extension": ".py",
   "mimetype": "text/x-python",
   "name": "python",
   "nbconvert_exporter": "python",
   "pygments_lexer": "ipython3",
   "version": "3.9.12"
  }
 },
 "nbformat": 4,
 "nbformat_minor": 5
}
