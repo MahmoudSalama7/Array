{
 "cells": [
  {
   "cell_type": "code",
   "execution_count": 6,
   "id": "68059aca",
   "metadata": {},
   "outputs": [
    {
     "name": "stdout",
     "output_type": "stream",
     "text": [
      "enter the number for repeating: 3\n",
      "enter the string: hi\n",
      "hihihi\n"
     ]
    }
   ],
   "source": [
    "y=int(input(\"enter the number for repeating: \"))\n",
    "x=y-1\n",
    "s=input(\"enter the string: \")\n",
    "\n",
    "while (x<y):\n",
    "    print (s*y)\n",
    "    x+=1"
   ]
  },
  {
   "cell_type": "code",
   "execution_count": null,
   "id": "acbdc42b",
   "metadata": {},
   "outputs": [],
   "source": []
  }
 ],
 "metadata": {
  "kernelspec": {
   "display_name": "Python 3 (ipykernel)",
   "language": "python",
   "name": "python3"
  },
  "language_info": {
   "codemirror_mode": {
    "name": "ipython",
    "version": 3
   },
   "file_extension": ".py",
   "mimetype": "text/x-python",
   "name": "python",
   "nbconvert_exporter": "python",
   "pygments_lexer": "ipython3",
   "version": "3.9.12"
  }
 },
 "nbformat": 4,
 "nbformat_minor": 5
}
