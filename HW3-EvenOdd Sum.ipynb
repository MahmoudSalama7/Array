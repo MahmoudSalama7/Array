{
 "cells": [
  {
   "cell_type": "code",
   "execution_count": 14,
   "id": "72c797cf",
   "metadata": {},
   "outputs": [
    {
     "name": "stdout",
     "output_type": "stream",
     "text": [
      "2\n",
      "33\n"
     ]
    }
   ],
   "source": [
    "l1=[11,2,7,9,12,-8,3,-1]\n",
    "evenSum=l1[1]+l1[3]+l1[5]+l1[7]\n",
    "print (evenSum)\n",
    "oddSum=l1[0]+l1[2]+l1[4]+l1[6]\n",
    "print (oddSum)\n"
   ]
  },
  {
   "cell_type": "code",
   "execution_count": null,
   "id": "5eb6b2b0",
   "metadata": {},
   "outputs": [],
   "source": []
  }
 ],
 "metadata": {
  "kernelspec": {
   "display_name": "Python 3 (ipykernel)",
   "language": "python",
   "name": "python3"
  },
  "language_info": {
   "codemirror_mode": {
    "name": "ipython",
    "version": 3
   },
   "file_extension": ".py",
   "mimetype": "text/x-python",
   "name": "python",
   "nbconvert_exporter": "python",
   "pygments_lexer": "ipython3",
   "version": "3.9.12"
  }
 },
 "nbformat": 4,
 "nbformat_minor": 5
}
