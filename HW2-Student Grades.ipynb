{
 "cells": [
  {
   "cell_type": "code",
   "execution_count": null,
   "id": "0f69775b",
   "metadata": {},
   "outputs": [],
   "source": []
  },
  {
   "cell_type": "code",
   "execution_count": 4,
   "id": "772428e6",
   "metadata": {},
   "outputs": [
    {
     "name": "stdout",
     "output_type": "stream",
     "text": [
      "Enter 1st student name: Ahmed\n",
      "Enter 1st student id: 1\n",
      "Enter 1st student grade: 100\n",
      "Enter 2nd student name: Mahmoud\n",
      "Enter 2nd student id: 90\n",
      "Enter 2nd student grade: 90\n",
      "Information for students in Math\n",
      "first student: Ahmed ID: 1 ,his grade: 100\n",
      "Second student: Mahmoud ID: 90 ,his grade: 90\n",
      "average grade for Math is: 95.0\n"
     ]
    }
   ],
   "source": [
    "stdName1=input(\"Enter 1st student name: \")\n",
    "stdId1=input(\"Enter 1st student id: \")\n",
    "stdGrade1=int(input(\"Enter 1st student grade: \"))\n",
    "\n",
    "stdName2=input(\"Enter 2nd student name: \")\n",
    "stdId2=input(\"Enter 2nd student id: \")\n",
    "stdGrade2=int(input(\"Enter 2nd student grade: \"))\n",
    "\n",
    "strGrade1=str(stdGrade1)\n",
    "strGrade2=str(stdGrade2)\n",
    "\n",
    "subject=\"Math\"\n",
    "average=str((stdGrade1+stdGrade2)/2)\n",
    "\n",
    "\n",
    "print(\"Information for students in \"+subject)\n",
    "print(\"first student: \"+stdName1+\" ID: \"+stdId1+\" ,his grade: \"+strGrade1)\n",
    "print(\"Second student: \"+stdName2+\" ID: \"+stdId2+\" ,his grade: \"+strGrade2)\n",
    "print(\"average grade for \"+subject+\" is: \"+average )\n"
   ]
  },
  {
   "cell_type": "code",
   "execution_count": null,
   "id": "3374a901",
   "metadata": {},
   "outputs": [],
   "source": []
  }
 ],
 "metadata": {
  "kernelspec": {
   "display_name": "Python 3 (ipykernel)",
   "language": "python",
   "name": "python3"
  },
  "language_info": {
   "codemirror_mode": {
    "name": "ipython",
    "version": 3
   },
   "file_extension": ".py",
   "mimetype": "text/x-python",
   "name": "python",
   "nbconvert_exporter": "python",
   "pygments_lexer": "ipython3",
   "version": "3.9.12"
  }
 },
 "nbformat": 4,
 "nbformat_minor": 5
}
