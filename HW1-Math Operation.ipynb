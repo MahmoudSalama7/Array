{
 "cells": [
  {
   "cell_type": "code",
   "execution_count": 2,
   "id": "ef1f8bab",
   "metadata": {},
   "outputs": [
    {
     "name": "stdout",
     "output_type": "stream",
     "text": [
      "Enter First Number: 10\n",
      "Enter Second Number: 5\n",
      "number1+number2= 15\n",
      "number1*number2= 50\n",
      "number1/number2= 2.0\n",
      "number1-number2= 5\n"
     ]
    }
   ],
   "source": [
    "number1=int(input(\"Enter First Number: \"))\n",
    "number2=int(input(\"Enter Second Number: \"))\n",
    "sum=str(number1+number2)\n",
    "print(\"number1+number2= \"+sum)\n",
    "\n",
    "mlt=str(number1*number2)\n",
    "print(\"number1*number2= \"+mlt)\n",
    "\n",
    "div=str(number1/number2)\n",
    "print(\"number1/number2= \"+div)\n",
    "\n",
    "sub=str(number1-number2)\n",
    "print(\"number1-number2= \"+sub)"
   ]
  },
  {
   "cell_type": "code",
   "execution_count": null,
   "id": "543d02c6",
   "metadata": {},
   "outputs": [],
   "source": []
  }
 ],
 "metadata": {
  "kernelspec": {
   "display_name": "Python 3 (ipykernel)",
   "language": "python",
   "name": "python3"
  },
  "language_info": {
   "codemirror_mode": {
    "name": "ipython",
    "version": 3
   },
   "file_extension": ".py",
   "mimetype": "text/x-python",
   "name": "python",
   "nbconvert_exporter": "python",
   "pygments_lexer": "ipython3",
   "version": "3.9.12"
  }
 },
 "nbformat": 4,
 "nbformat_minor": 5
}
