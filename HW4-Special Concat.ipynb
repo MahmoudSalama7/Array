{
 "cells": [
  {
   "cell_type": "code",
   "execution_count": 10,
   "id": "8c2a23d2",
   "metadata": {},
   "outputs": [
    {
     "name": "stdout",
     "output_type": "stream",
     "text": [
      "I'am''mostafaI'am''mostafaI'am''mostafaI'am''mostafaI'am''mostafaI'am''mostafaI'am''mostafaI'am''mostafaI'am''mostafaI'am''mostafa\n"
     ]
    }
   ],
   "source": [
    "a,b,c=\"I\",\"am\",\"mostafa\"\n",
    "print ((a+\"'\"+b+\"''\"+c)*10)"
   ]
  },
  {
   "cell_type": "code",
   "execution_count": null,
   "id": "6efdbb32",
   "metadata": {},
   "outputs": [],
   "source": []
  }
 ],
 "metadata": {
  "kernelspec": {
   "display_name": "Python 3 (ipykernel)",
   "language": "python",
   "name": "python3"
  },
  "language_info": {
   "codemirror_mode": {
    "name": "ipython",
    "version": 3
   },
   "file_extension": ".py",
   "mimetype": "text/x-python",
   "name": "python",
   "nbconvert_exporter": "python",
   "pygments_lexer": "ipython3",
   "version": "3.9.12"
  }
 },
 "nbformat": 4,
 "nbformat_minor": 5
}
